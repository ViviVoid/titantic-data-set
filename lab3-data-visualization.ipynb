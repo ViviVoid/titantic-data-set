{
 "cells": [
  {
   "cell_type": "code",
   "execution_count": 1,
   "metadata": {},
   "outputs": [],
   "source": [
    "import pandas as pd\n",
    "import numpy as np\n",
    "import seaborn as sb"
   ]
  },
  {
   "cell_type": "markdown",
   "metadata": {},
   "source": [
    "# Step One, Reading the Data\n",
    "For detail on the reasons behind this process, it is documented in lab2-reading-data.ipynb"
   ]
  },
  {
   "cell_type": "code",
   "execution_count": null,
   "metadata": {},
   "outputs": [],
   "source": [
    "# Importing The Data\n",
    "df = pd.read_csv(\"titanic-1.csv\")\n",
    "df[[\"Cabin\", \"Pclass\", \"Sex\", \"Embarked\"]] = df[[\"Cabin\", \"Pclass\", \"Sex\", \"Embarked\"]].astype(\"category\")\n",
    "df[\"Age_fill_knn\"]=df[\"Age\"]\n",
    "\n",
    "# Prepare knn material to fill nan values for Age\n",
    "data_drop_age_na = df[df[\"Age\"].notna()]\n",
    "data_age_na = df[df[\"Age\"].isna()]\n",
    "\n",
    "knn = KNeighborsRegressor(n_neighbors=5)\n",
    "\n",
    "X = data_drop_age_na[[\"SibSp\", \"Parch\", \"Fare\"]]\n",
    "y = data_drop_age_na[\"Age\"]\n",
    "\n",
    "knn.fit(X, y)\n",
    "y_pred = knn.predict(data_age_na[[\"SibSp\", \"Parch\", \"Fare\"]])\n",
    "\n",
    "# Actually fill in Age_fill_knn\n",
    "df[\"Age_fill_knn\"] = df_new[\"Age\"]\n",
    "df[\"Age_fill_knn\"].fillna(pd.Series(y_pred))"
   ]
  },
  {
   "cell_type": "markdown",
   "metadata": {},
   "source": [
    "### Question 1.3.a\n",
    "\n",
    "For each variable in the data set, identify the type of the data it contains and\n",
    "articulate the reason for your assessment. Refer to the typology from the data\n",
    "types lecture.\n",
    "\n",
    "| Column Name |                                        Interpretation                                        | Variable Measure | Additional Info                                                                                                                                                                                      |  Units  |\n",
    "|:-----------:|:--------------------------------------------------------------------------------------------:|:----------------:|------------------------------------------------------------------------------------------------------------------------------------------------------------------------------------------------------|:-------:|\n",
    "| PassengerId | Id number of the passenger                                                                   | Nominal          | The Id of a passenger is categorical in that it serves as an identifier but  does not carry innate meaning for a given passenger, hence, nominal.                                                    |         |\n",
    "| Survived    | Whether the passenger survived or not. 0 if the passenger died, 1 if the passenger survived. | Ordinal          | The survival of a passenger is categorical and is nominal since surviving is meaningfully different than being dead.                                                                                 |         |\n",
    "| Pclass      | Passenger class on the Titanic.                                                              | Ordinal          | The class of a passenger may have some influence on the passenger, is categorical  since it does not have innate difference by value and ordinal due to differences in classes carrying some weight. |         |\n",
    "| Name        | Name of the passenger                                                                        | Nominal          | This is nominal information since the name of a passenger may carry weight but is ultimately more unique to a passenger itself rather than having some inherent order.                               |         |\n",
    "| Sex         | Sex of the passenger                                                                         | Nominal          | This is nominal information since there is no quantitative or ordering of value of being female or male.                                                                                             |         |\n",
    "| Age         | Age of the passenger                                                                         | Discrete         | This is discrete because age is countable and only values above or equal to 0 are valid.                                                                                                             | Years   |\n",
    "| SibSp       | Number of siblings and spouses the passenger had on board.                                   | Discrete         | This is discrete because the number of siblings/spouses on board can only be 0 or higher and is countable. You cannot have a portion of a sibling/spouse.                                            | Persons |\n",
    "| Parch       | Number of parents and childrens the passenger had on board.                                  | Discrete         | This is discrete because the number of parent/child on board can only be 0 or higher and is countable. You cannot have a portion of a parent/child. Fetuses are not part child.                      | Persons |\n",
    "| Ticket      | Ticket Number of the passenger                                                               | Nominal          | This is nominal information which carries little value in order, similar to an id- serving as an identifier.                                                                                         |         |\n",
    "| Fare        | Fare of the passenger paid                                                                   | Ratio            | This is a ratio since the fare can be a portion of the pound and has a zero point being that the fare cannot be negative.                                                                            | Pounds  |\n",
    "| Cabin       | Cabin number of the passenger                                                                | Nominal          | The cabin number of a passenger is nominal information since it references a specific cabin and serves as an identifier.                                                                             |         |\n",
    "| Embarked    | Port number the passenger embarked from                                                      | Nominal          | This is additional nominal information since there is no inherent order in how people embark from different ports.                                                                                   |         |"
   ]
  },
  {
   "cell_type": "code",
   "execution_count": null,
   "metadata": {},
   "outputs": [],
   "source": []
  },
  {
   "cell_type": "markdown",
   "metadata": {},
   "source": [
    "### Question 2.6.a  \n",
    "What are appropriate plot types for comparing each variable to Survived and why?\n",
    "\n",
    "### Question 2.6.b  \n",
    "What would you need to observe in each visualization type to conclude that there might be a predictive relationship between the variable and Survived?\n",
    "\n",
    "### Question 2.6.c  \n",
    "Identify any predictive relationships in your data by interpreting your plots–what do the x and y axes mean? What do they tell us about the relationships between each variable and Survived? Provide the plots for the potentially predictive variables in your writeup. Explain why it does or does not make sense that that variable would be related to Survived – not in terms of the evidence from your visualizations, but in terms of what the variable measures. What do you learn about Edwardian society?\n",
    "\n",
    "### Question 2.6.d  \n",
    "Does that manner in which you fill missing values in the Age column affect your conclusions on the existence of a predictive relationship between Age and Survived? How do you know?\n",
    "\n",
    "### Question 2.6.e  \n",
    "Consider the PassengerID and Cabin variables. We did not include them in our analysis as potential predictors for Survived. What would we need to do to these variables if we did want to use them? Suggest one transformation you could apply to each to make use of it and why it needs to be transformed.\n",
    "\n",
    "### Question 2.6.f  \n",
    "Which variables would you want to include in a machine learning model? Is a plot that appears ‘predictive’ necessary or sufficient for that variable to have a predictive relationship with Survived?\n",
    "\n"
   ]
  }
 ],
 "metadata": {
  "kernelspec": {
   "display_name": "Python 3",
   "language": "python",
   "name": "python3"
  },
  "language_info": {
   "codemirror_mode": {
    "name": "ipython",
    "version": 3
   },
   "file_extension": ".py",
   "mimetype": "text/x-python",
   "name": "python",
   "nbconvert_exporter": "python",
   "pygments_lexer": "ipython3",
   "version": "3.12.8"
  }
 },
 "nbformat": 4,
 "nbformat_minor": 2
}
